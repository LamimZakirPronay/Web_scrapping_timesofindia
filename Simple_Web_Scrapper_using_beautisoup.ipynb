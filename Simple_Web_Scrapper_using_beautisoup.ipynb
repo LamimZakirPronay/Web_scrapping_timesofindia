{
 "cells": [
  {
   "cell_type": "markdown",
   "id": "471447ad",
   "metadata": {},
   "source": [
    "# Web scraping with python!"
   ]
  },
  {
   "cell_type": "markdown",
   "id": "707ec782",
   "metadata": {},
   "source": [
    "What is Web Scraping?\n",
    "Web scraping is an automated method used to extract large amounts of data from websites. The data on the websites are unstructured. Web scraping helps collect these unstructured data and store it in a structured form. There are different ways to scrape websites such as online Services, APIs or writing your own code. In this article, we’ll see how to implement web scraping with python. "
   ]
  },
  {
   "cell_type": "code",
   "execution_count": null,
   "id": "56a7955f",
   "metadata": {},
   "outputs": [],
   "source": [
    "! pip install beautifulsoup4"
   ]
  },
  {
   "cell_type": "markdown",
   "id": "00f257d8",
   "metadata": {},
   "source": [
    "Beautiful Soup is a Python library for pulling data out of HTML and XML files. It works with your favorite parser to provide idiomatic ways of navigating, searching, and modifying the parse tree. It commonly saves programmers hours or days of work. BeautifulSoup under bs4 package is used to parse HTML & XML docs into python in a very easy & convenient way and access its elements by identifying them with their tags and attributes."
   ]
  },
  {
   "cell_type": "code",
   "execution_count": 1,
   "id": "27e0b590",
   "metadata": {
    "scrolled": true
   },
   "outputs": [
    {
     "name": "stdout",
     "output_type": "stream",
     "text": [
      "Requirement already satisfied: requests in c:\\users\\prona\\anaconda3\\lib\\site-packages (2.27.1)\n",
      "Requirement already satisfied: urllib3<1.27,>=1.21.1 in c:\\users\\prona\\anaconda3\\lib\\site-packages (from requests) (1.26.9)\n",
      "Requirement already satisfied: charset-normalizer~=2.0.0 in c:\\users\\prona\\anaconda3\\lib\\site-packages (from requests) (2.0.4)\n",
      "Requirement already satisfied: certifi>=2017.4.17 in c:\\users\\prona\\anaconda3\\lib\\site-packages (from requests) (2021.10.8)\n",
      "Requirement already satisfied: idna<4,>=2.5 in c:\\users\\prona\\anaconda3\\lib\\site-packages (from requests) (3.3)\n"
     ]
    }
   ],
   "source": [
    "! pip install requests"
   ]
  },
  {
   "cell_type": "code",
   "execution_count": null,
   "id": "14276e2f",
   "metadata": {},
   "outputs": [],
   "source": [
    "import urllib.request,sys,time\n",
    "from bs4 import BeautifulSoup\n",
    "import requests\n",
    "import pandas as pd\n"
   ]
  },
  {
   "cell_type": "markdown",
   "id": "0ede5b29",
   "metadata": {},
   "source": [
    "#### The website we chose https://timesofindia.indiatimes.com/topic/tata-motors/3"
   ]
  },
  {
   "cell_type": "code",
   "execution_count": 12,
   "id": "068df666",
   "metadata": {},
   "outputs": [
    {
     "name": "stdout",
     "output_type": "stream",
     "text": [
      "processing page : 2\n",
      "https://timesofindia.indiatimes.com/topic/tata-motors/2\n",
      "processing page : 3\n",
      "https://timesofindia.indiatimes.com/topic/tata-motors/3\n",
      "processing page : 4\n",
      "https://timesofindia.indiatimes.com/topic/tata-motors/4\n",
      "processing page : 5\n",
      "https://timesofindia.indiatimes.com/topic/tata-motors/5\n",
      "processing page : 6\n",
      "https://timesofindia.indiatimes.com/topic/tata-motors/6\n",
      "processing page : 7\n",
      "https://timesofindia.indiatimes.com/topic/tata-motors/7\n",
      "processing page : 8\n",
      "https://timesofindia.indiatimes.com/topic/tata-motors/8\n",
      "processing page : 9\n",
      "https://timesofindia.indiatimes.com/topic/tata-motors/9\n",
      "processing page : 10\n",
      "https://timesofindia.indiatimes.com/topic/tata-motors/10\n"
     ]
    }
   ],
   "source": [
    "pagesToGet= 10\n",
    "NEWSLINES = []\n",
    "DATES_ = [] \n",
    "for page in range(2,pagesToGet+1):\n",
    "    print('processing page :', page)\n",
    "    url = 'https://timesofindia.indiatimes.com/topic/tata-motors/'+str(page)\n",
    "    print(url)\n",
    "    \n",
    "    #an exception might be thrown, so the code should be in a try-except block\n",
    "    try:\n",
    "        #use the browser to get the url. This is suspicious command that might blow up.\n",
    "        page=requests.get(url)                             # this might throw an exception if something goes wrong.\n",
    "    \n",
    "    except Exception as e:                                   # this describes what to do if an exception is thrown\n",
    "        error_type, error_obj, error_info = sys.exc_info()      # get the exception information\n",
    "        print ('ERROR FOR LINK:',url)                          #print the link that cause the problem\n",
    "        print (error_type, 'Line:', error_info.tb_lineno)     #print error info and line that threw the exception\n",
    "        continue                                              #ignore this page. Abandon this and go back.\n",
    "    time.sleep(2)   \n",
    "    soup=BeautifulSoup(page.text,'html.parser')\n",
    "    \n",
    "    data = '' \n",
    "    for data in soup.find_all(\"p\"):\n",
    "             \n",
    "        links=soup.find('div',attrs={'class':'hVLK8'})\n",
    "        \n",
    "        for j in links:\n",
    "            Date1 = j.text[-25:-13].strip()\n",
    "        DATES_.append(Date)\n",
    "        #print(Date)\n",
    "        #print(data.get_text()) \n",
    "        NEWSLINES.append(data.get_text())  "
   ]
  },
  {
   "cell_type": "markdown",
   "id": "9aff4479",
   "metadata": {},
   "source": [
    "Putting the values in DF"
   ]
  },
  {
   "cell_type": "code",
   "execution_count": 13,
   "id": "9d1227c9",
   "metadata": {},
   "outputs": [
    {
     "data": {
      "text/html": [
       "<div>\n",
       "<style scoped>\n",
       "    .dataframe tbody tr th:only-of-type {\n",
       "        vertical-align: middle;\n",
       "    }\n",
       "\n",
       "    .dataframe tbody tr th {\n",
       "        vertical-align: top;\n",
       "    }\n",
       "\n",
       "    .dataframe thead th {\n",
       "        text-align: right;\n",
       "    }\n",
       "</style>\n",
       "<table border=\"1\" class=\"dataframe\">\n",
       "  <thead>\n",
       "    <tr style=\"text-align: right;\">\n",
       "      <th></th>\n",
       "      <th>NEWSLINES</th>\n",
       "      <th>DATES_</th>\n",
       "    </tr>\n",
       "  </thead>\n",
       "  <tbody>\n",
       "    <tr>\n",
       "      <th>0</th>\n",
       "      <td>Diwali festive season has been a blessing for...</td>\n",
       "      <td>Sep 27, 2022</td>\n",
       "    </tr>\n",
       "    <tr>\n",
       "      <th>1</th>\n",
       "      <td>The Tata Hitachi plant at Vidyasagar Industri...</td>\n",
       "      <td>Sep 27, 2022</td>\n",
       "    </tr>\n",
       "    <tr>\n",
       "      <th>2</th>\n",
       "      <td>tata motors silently re-jigged the features o...</td>\n",
       "      <td>Sep 27, 2022</td>\n",
       "    </tr>\n",
       "    <tr>\n",
       "      <th>3</th>\n",
       "      <td></td>\n",
       "      <td>Sep 27, 2022</td>\n",
       "    </tr>\n",
       "    <tr>\n",
       "      <th>4</th>\n",
       "      <td>After the Covid-19 pandemic, India’s biggest ...</td>\n",
       "      <td>Sep 27, 2022</td>\n",
       "    </tr>\n",
       "  </tbody>\n",
       "</table>\n",
       "</div>"
      ],
      "text/plain": [
       "                                           NEWSLINES        DATES_\n",
       "0   Diwali festive season has been a blessing for...  Sep 27, 2022\n",
       "1   The Tata Hitachi plant at Vidyasagar Industri...  Sep 27, 2022\n",
       "2   tata motors silently re-jigged the features o...  Sep 27, 2022\n",
       "3                                                     Sep 27, 2022\n",
       "4   After the Covid-19 pandemic, India’s biggest ...  Sep 27, 2022"
      ]
     },
     "execution_count": 13,
     "metadata": {},
     "output_type": "execute_result"
    }
   ],
   "source": [
    "list_of_tuples = list(zip(NEWSLINES, DATES_))        \n",
    "df = pd.DataFrame(list_of_tuples,\n",
    "                  columns=['NEWSLINES', 'DATES_'])        \n",
    "df.head()\n",
    "        "
   ]
  }
 ],
 "metadata": {
  "kernelspec": {
   "display_name": "Python 3 (ipykernel)",
   "language": "python",
   "name": "python3"
  },
  "language_info": {
   "codemirror_mode": {
    "name": "ipython",
    "version": 3
   },
   "file_extension": ".py",
   "mimetype": "text/x-python",
   "name": "python",
   "nbconvert_exporter": "python",
   "pygments_lexer": "ipython3",
   "version": "3.9.12"
  }
 },
 "nbformat": 4,
 "nbformat_minor": 5
}
